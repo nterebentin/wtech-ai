{
 "cells": [
  {
   "cell_type": "code",
   "execution_count": 20,
   "metadata": {},
   "outputs": [
    {
     "name": "stdout",
     "output_type": "stream",
     "text": [
      "Kütüphane kurulumları başarılı!\n"
     ]
    }
   ],
   "source": [
    "import tensorflow as tf\n",
    "import pandas as pd\n",
    "import sklearn\n",
    "import PIL\n",
    "import psutil\n",
    "import fastapi\n",
    "import uvicorn\n",
    "import pydantic\n",
    "\n",
    "print(\"Kütüphane kurulumları başarılı!\")"
   ]
  },
  {
   "cell_type": "code",
   "execution_count": 22,
   "metadata": {},
   "outputs": [
    {
     "name": "stdout",
     "output_type": "stream",
     "text": [
      "Model: \"sequential_3\"\n",
      "_________________________________________________________________\n",
      " Layer (type)                Output Shape              Param #   \n",
      "=================================================================\n",
      " conv2d_9 (Conv2D)           (None, 238, 238, 32)      896       \n",
      "                                                                 \n",
      " max_pooling2d_6 (MaxPoolin  (None, 119, 119, 32)      0         \n",
      " g2D)                                                            \n",
      "                                                                 \n",
      " conv2d_10 (Conv2D)          (None, 117, 117, 64)      18496     \n",
      "                                                                 \n",
      " max_pooling2d_7 (MaxPoolin  (None, 58, 58, 64)        0         \n",
      " g2D)                                                            \n",
      "                                                                 \n",
      " conv2d_11 (Conv2D)          (None, 56, 56, 128)       73856     \n",
      "                                                                 \n",
      " flatten_3 (Flatten)         (None, 401408)            0         \n",
      "                                                                 \n",
      " dense_9 (Dense)             (None, 128)               51380352  \n",
      "                                                                 \n",
      " dropout_6 (Dropout)         (None, 128)               0         \n",
      "                                                                 \n",
      " dense_10 (Dense)            (None, 256)               33024     \n",
      "                                                                 \n",
      " dropout_7 (Dropout)         (None, 256)               0         \n",
      "                                                                 \n",
      " dense_11 (Dense)            (None, 1)                 257       \n",
      "                                                                 \n",
      "=================================================================\n",
      "Total params: 51506881 (196.48 MB)\n",
      "Trainable params: 51506881 (196.48 MB)\n",
      "Non-trainable params: 0 (0.00 Byte)\n",
      "_________________________________________________________________\n"
     ]
    }
   ],
   "source": [
    "from tensorflow.keras.models import Sequential\n",
    "from tensorflow.keras.layers import Dense, Dropout, Flatten, Conv2D, MaxPooling2D\n",
    "model = Sequential()\n",
    "model.add(\n",
    "    Conv2D( # 1st layer\n",
    "        filters=32, # filtre sayısı yani resimdeki özellik sayısı\n",
    "        kernel_size=(3, 3), # filtre boyutu\n",
    "        activation='relu', # aktivasyon fonksiyonu\n",
    "        input_shape=(240, 240, 3) # giriş şekli 3 kanallı 240x240 piksel resim (RGB) eğer siyah beyaz olsaydı 1 olacaktı\n",
    "    ))\n",
    "\n",
    "model.add(\n",
    "    MaxPooling2D( # 2nd layer\n",
    "        pool_size=(2, 2) # max pooling boyutu\n",
    "    ))\n",
    "\n",
    "model.add(Conv2D(filters=64, kernel_size=(3, 3), activation='relu')) # 3rd layer\n",
    "model.add(MaxPooling2D(pool_size=(2, 2))) # 4th layer\n",
    "model.add(Conv2D(filters=128, kernel_size=(3, 3), activation='relu')) # 5th layer\n",
    "\n",
    "model.add(Flatten()) # düzleştirme\n",
    "model.add(Dense(units=128, activation='relu'))\n",
    "model.add(Dropout(0.5)) # overfitting önlemek için dropout\n",
    "model.add(Dense(units=256, activation='relu'))\n",
    "model.add(Dropout(0.2))\n",
    "model.add(Dense(units=1, activation='sigmoid')) # çıkış katmanı\n",
    "\n",
    "model.summary()\n"
   ]
  },
  {
   "cell_type": "code",
   "execution_count": 23,
   "metadata": {},
   "outputs": [],
   "source": [
    "model.compile(optimizer=\"adam\",loss=\"binary_crossentropy\",metrics=[\"accuracy\"])\n"
   ]
  },
  {
   "cell_type": "code",
   "execution_count": 31,
   "metadata": {},
   "outputs": [
    {
     "name": "stdout",
     "output_type": "stream",
     "text": [
      "Found 488 images belonging to 2 classes.\n",
      "Found 96 images belonging to 2 classes.\n"
     ]
    }
   ],
   "source": [
    "from tensorflow.keras.preprocessing.image import ImageDataGenerator\n",
    "\n",
    "data_path='data'\n",
    "\n",
    "\n",
    "train_datagen = ImageDataGenerator(\n",
    "    rescale=1./255, # resim değerlerini 0-1 arasına çekme\n",
    "    shear_range=0.2, # kesme açısı\n",
    "    zoom_range=0.2, # yakınlaştırma\n",
    "    horizontal_flip=True # yatay çevirme\n",
    ")\n",
    "\n",
    "test_datagen = ImageDataGenerator(\n",
    "    rescale=1./255, # resim değerlerini 0-1 arasına çekme\n",
    "    validation_split = 0.2 # doğrulama verisi oranı\n",
    ")\n",
    "\n",
    "train_generator = train_datagen.flow_from_directory(\n",
    "    data_path, # veri yolu\n",
    "    target_size=(240, 240), # resim boyutu\n",
    "    batch_size = 32, # her seferinde kaç resim alınacağı\n",
    "    subset='training', # eğitim verisi\n",
    "    class_mode='binary' # sınıflandırma türü\n",
    ")\n",
    "\n",
    "validation_generator = test_datagen.flow_from_directory(\n",
    "    data_path,\n",
    "    target_size=(240, 240),\n",
    "    batch_size=32,\n",
    "    subset='validation', # doğrulama verisi\n",
    "    class_mode='binary'\n",
    ")"
   ]
  },
  {
   "cell_type": "code",
   "execution_count": 35,
   "metadata": {},
   "outputs": [
    {
     "name": "stdout",
     "output_type": "stream",
     "text": [
      "Epoch 1/10\n",
      "16/16 [==============================] - 25s 2s/step - loss: 0.2426 - accuracy: 0.8893 - val_loss: 0.1355 - val_accuracy: 0.9375\n",
      "Epoch 2/10\n",
      "16/16 [==============================] - 25s 2s/step - loss: 0.2482 - accuracy: 0.9016 - val_loss: 0.1179 - val_accuracy: 0.9479\n",
      "Epoch 3/10\n",
      "16/16 [==============================] - 24s 1s/step - loss: 0.2606 - accuracy: 0.9016 - val_loss: 0.1283 - val_accuracy: 0.9375\n",
      "Epoch 4/10\n",
      "16/16 [==============================] - 24s 1s/step - loss: 0.2468 - accuracy: 0.8934 - val_loss: 0.1341 - val_accuracy: 0.9479\n",
      "Epoch 5/10\n",
      "16/16 [==============================] - 24s 2s/step - loss: 0.2149 - accuracy: 0.9078 - val_loss: 0.1574 - val_accuracy: 0.9375\n",
      "Epoch 6/10\n",
      "16/16 [==============================] - 24s 1s/step - loss: 0.3056 - accuracy: 0.8750 - val_loss: 0.1422 - val_accuracy: 0.9583\n",
      "Epoch 7/10\n",
      "16/16 [==============================] - 25s 2s/step - loss: 0.2158 - accuracy: 0.9201 - val_loss: 0.1073 - val_accuracy: 0.9688\n",
      "Epoch 8/10\n",
      "16/16 [==============================] - 26s 2s/step - loss: 0.2152 - accuracy: 0.8975 - val_loss: 0.1442 - val_accuracy: 0.9167\n",
      "Epoch 9/10\n",
      "16/16 [==============================] - 25s 2s/step - loss: 0.3630 - accuracy: 0.8832 - val_loss: 0.1078 - val_accuracy: 0.9583\n",
      "Epoch 10/10\n",
      "16/16 [==============================] - 26s 2s/step - loss: 0.3028 - accuracy: 0.8730 - val_loss: 0.1476 - val_accuracy: 0.9271\n"
     ]
    }
   ],
   "source": [
    "history=model.fit(train_generator,epochs=10,validation_data=validation_generator)"
   ]
  },
  {
   "cell_type": "code",
   "execution_count": 36,
   "metadata": {},
   "outputs": [
    {
     "name": "stderr",
     "output_type": "stream",
     "text": [
      "d:\\wtech\\wtech_ai_cnn\\deep_learning\\Lib\\site-packages\\keras\\src\\engine\\training.py:3079: UserWarning: You are saving your model as an HDF5 file via `model.save()`. This file format is considered legacy. We recommend using instead the native Keras format, e.g. `model.save('my_model.keras')`.\n",
      "  saving_api.save_model(\n"
     ]
    }
   ],
   "source": [
    "model.save('models/adidas-nike.h5')"
   ]
  },
  {
   "cell_type": "code",
   "execution_count": 92,
   "metadata": {},
   "outputs": [
    {
     "data": {
      "image/jpeg": "[encoded data removed]",
      "image/png": "[encoded data removed]",
      "text/plain": [
       "<PIL.Image.Image image mode=RGB size=240x240>"
      ]
     },
     "execution_count": 92,
     "metadata": {},
     "output_type": "execute_result"
    }
   ],
   "source": [
    "from tensorflow.keras.models import load_model\n",
    "model = load_model('models/adidas-nike.h5')\n",
    "\n",
    "import numpy as np\n",
    "from tensorflow.keras.preprocessing import image\n",
    "\n",
    "test_image = image.load_img('furyosa.jpg', target_size=(240, 240)) # test resmi yükle\n",
    "test_image"
   ]
  },
  {
   "cell_type": "code",
   "execution_count": 93,
   "metadata": {},
   "outputs": [
    {
     "name": "stdout",
     "output_type": "stream",
     "text": [
      "(240, 240, 3)\n",
      "[[[242. 242. 242.]\n",
      "  [242. 242. 242.]\n",
      "  [242. 242. 242.]\n",
      "  ...\n",
      "  [242. 242. 242.]\n",
      "  [242. 242. 242.]\n",
      "  [242. 242. 242.]]\n",
      "\n",
      " [[242. 242. 242.]\n",
      "  [242. 242. 242.]\n",
      "  [242. 242. 242.]\n",
      "  ...\n",
      "  [242. 242. 242.]\n",
      "  [242. 242. 242.]\n",
      "  [242. 242. 242.]]\n",
      "\n",
      " [[242. 242. 242.]\n",
      "  [242. 242. 242.]\n",
      "  [242. 242. 242.]\n",
      "  ...\n",
      "  [242. 242. 242.]\n",
      "  [242. 242. 242.]\n",
      "  [242. 242. 242.]]\n",
      "\n",
      " ...\n",
      "\n",
      " [[242. 242. 242.]\n",
      "  [242. 242. 242.]\n",
      "  [242. 242. 242.]\n",
      "  ...\n",
      "  [242. 242. 242.]\n",
      "  [242. 242. 242.]\n",
      "  [242. 242. 242.]]\n",
      "\n",
      " [[242. 242. 242.]\n",
      "  [242. 242. 242.]\n",
      "  [242. 242. 242.]\n",
      "  ...\n",
      "  [242. 242. 242.]\n",
      "  [242. 242. 242.]\n",
      "  [242. 242. 242.]]\n",
      "\n",
      " [[242. 242. 242.]\n",
      "  [242. 242. 242.]\n",
      "  [242. 242. 242.]\n",
      "  ...\n",
      "  [242. 242. 242.]\n",
      "  [242. 242. 242.]\n",
      "  [242. 242. 242.]]]\n"
     ]
    }
   ],
   "source": [
    "test_image = image.img_to_array(test_image) # resmi diziye çevir\n",
    "print(test_image.shape)\n",
    "print(test_image)"
   ]
  },
  {
   "cell_type": "code",
   "execution_count": 94,
   "metadata": {},
   "outputs": [
    {
     "name": "stdout",
     "output_type": "stream",
     "text": [
      "(1, 240, 240, 3)\n"
     ]
    }
   ],
   "source": [
    "test_image = np.expand_dims(test_image, axis=0) / 255.0 # boyut ekleyip 0-1 arasına çek\n",
    "print(test_image.shape)"
   ]
  },
  {
   "cell_type": "code",
   "execution_count": 95,
   "metadata": {},
   "outputs": [
    {
     "name": "stdout",
     "output_type": "stream",
     "text": [
      "1/1 [==============================] - 0s 186ms/step\n",
      "[[0.4388455]]\n",
      "Nike\n"
     ]
    }
   ],
   "source": [
    "result = model.predict(test_image) # tahmin yap\n",
    "print(result)\n",
    "\n",
    "if result[0][0] > 0.5:\n",
    "    print('Adidas')\n",
    "else:\n",
    "    print('Nike')"
   ]
  }
 ],
 "metadata": {
  "language_info": {
   "name": "python"
  }
 },
 "nbformat": 4,
 "nbformat_minor": 2
}
